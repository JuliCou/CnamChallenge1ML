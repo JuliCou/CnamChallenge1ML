{
 "cells": [
  {
   "cell_type": "code",
   "execution_count": 1,
   "metadata": {},
   "outputs": [
    {
     "name": "stdout",
     "output_type": "stream",
     "text": [
      "train :  (44550, 41)\n",
      "test :  (14850, 40)\n",
      "value :  (59400, 2)\n"
     ]
    }
   ],
   "source": [
    "import pandas as pd\n",
    "\n",
    "# Data from -intern- Kaggle competition\n",
    "train = pd.read_csv('train.csv', header=0, sep=\",\")\n",
    "test = pd.read_csv('test.csv', header=0, sep=\",\")\n",
    "\n",
    "# Data from Driven Data\n",
    "value = pd.read_csv(\"training_value.csv\", header=0, sep=\",\")\n",
    "\n",
    "# Train + Test = Value\n",
    "print(\"train : \", train.shape)\n",
    "print(\"test : \", test.shape)\n",
    "print(\"value : \", value.shape)\n",
    "\n",
    "# Association of value with test\n",
    "result = pd.merge(test, value, how=\"outer\", on=\"id\")\n",
    "result = result.iloc[0:test.shape[0]]\n",
    "\n",
    "# Saving results\n",
    "result[[\"id\", \"status_group\"]].to_csv('vrai_resultat.csv', index=False)\n",
    "\n",
    "# For submission\n",
    "t = result.replace(\"functional\", 0).replace(\"non functional\", 1).replace(\"functional needs repair\", 2)\n",
    "t[['id', 'status_group']].to_csv('vrai_resultat_2.csv', index=False)"
   ]
  },
  {
   "cell_type": "code",
   "execution_count": null,
   "metadata": {},
   "outputs": [],
   "source": []
  }
 ],
 "metadata": {
  "kernelspec": {
   "display_name": "Python 3",
   "language": "python",
   "name": "python3"
  },
  "language_info": {
   "codemirror_mode": {
    "name": "ipython",
    "version": 3
   },
   "file_extension": ".py",
   "mimetype": "text/x-python",
   "name": "python",
   "nbconvert_exporter": "python",
   "pygments_lexer": "ipython3",
   "version": "3.7.3"
  }
 },
 "nbformat": 4,
 "nbformat_minor": 2
}
